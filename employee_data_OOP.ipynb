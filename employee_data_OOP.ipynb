{
  "nbformat": 4,
  "nbformat_minor": 0,
  "metadata": {
    "colab": {
      "provenance": [],
      "authorship_tag": "ABX9TyMXZkGQAWj/UbCRV/lOTGLr",
      "include_colab_link": true
    },
    "kernelspec": {
      "name": "python3",
      "display_name": "Python 3"
    },
    "language_info": {
      "name": "python"
    }
  },
  "cells": [
    {
      "cell_type": "markdown",
      "metadata": {
        "id": "view-in-github",
        "colab_type": "text"
      },
      "source": [
        "<a href=\"https://colab.research.google.com/github/deepakpushpad/github-projects-playground/blob/Google_Collab/employee_data_OOP.ipynb\" target=\"_parent\"><img src=\"https://colab.research.google.com/assets/colab-badge.svg\" alt=\"Open In Colab\"/></a>"
      ]
    },
    {
      "cell_type": "code",
      "execution_count": null,
      "metadata": {
        "id": "2IETBHEi3PL7"
      },
      "outputs": [],
      "source": [
        "class Employees:\n",
        "    All_Employees = []\n",
        "    VALID_DEPARTMENTS = {\"Engineering\", \"Marketing\", \"HR\", \"Finance\", \"Sales\"}\n",
        "\n",
        "    def __init__(self, emp_id, emp_name, emp_salary, emp_dept):\n",
        "        self.emp_id = emp_id\n",
        "        self.emp_name = emp_name\n",
        "        self.__emp_salary = emp_salary  # Private attribute\n",
        "        self.emp_dept = emp_dept\n",
        "        Employees.All_Employees.append(self)\n",
        "\n",
        "    # 📌 Encapsulation: Getters and Setters\n",
        "    def get_salary(self, role=\"Employee\"):\n",
        "        \"\"\"Getter: Securely retrieves salary only for authorized roles.\"\"\"\n",
        "        return f\"Salary: ₹{self.__emp_salary}\" if role.lower() == \"manager\" else \"Access Denied.\"\n",
        "\n",
        "    def set_salary(self, new_salary):\n",
        "        \"\"\"Setter: Updates salary securely with validation.\"\"\"\n",
        "        if new_salary > 0:\n",
        "            self.__emp_salary = new_salary\n",
        "            print(f\"Salary updated for {self.emp_name}.\")\n",
        "        else:\n",
        "            print(\"Error: Salary must be positive.\")\n",
        "\n",
        "    def get_emp_id(self):\n",
        "        \"\"\"Returns Employee ID (Read-Only)\"\"\"\n",
        "        return self.emp_id\n",
        "\n",
        "    def set_emp_id(self, new_id):\n",
        "        \"\"\"Prevents modification of Employee ID.\"\"\"\n",
        "        print(\"Error: Employee ID cannot be changed!\")\n",
        "\n",
        "    # 📌 Abstraction: Hide Raise Calculation\n",
        "    def __calculate_raise(self, percent):\n",
        "        \"\"\"Private method to apply a salary raise.\"\"\"\n",
        "        return self.__emp_salary * (percent / 100)\n",
        "\n",
        "    def give_raise(self, percent):\n",
        "        \"\"\"Public method that calls private salary raise function.\"\"\"\n",
        "        increase = self.__calculate_raise(percent)\n",
        "        self.__emp_salary += increase\n",
        "        print(f\"{self.emp_name} received a {percent}% raise. New salary: ₹{self.__emp_salary}\")\n",
        "\n",
        "    # 📌 Class Method to Find Employees\n",
        "    @classmethod\n",
        "    def find_employee_by_id(cls, emp_id):\n",
        "        for emp in cls.All_Employees:\n",
        "            if emp.emp_id == emp_id:\n",
        "                emp.display_emp_info()\n",
        "                return emp\n",
        "        print(\"Employee not found.\")\n",
        "        return None\n",
        "\n",
        "    # 📌 Static Method for Validation\n",
        "    @staticmethod\n",
        "    def is_valid_emp_id(emp_id):\n",
        "        \"\"\"Validates Employee ID (Must be positive).\"\"\"\n",
        "        return emp_id > 0\n",
        "\n",
        "\n",
        "# 📌 Inheritance: Specialized Class for Manager\n",
        "class Manager(Employees):\n",
        "    def __init__(self, emp_id, emp_name, emp_salary, emp_dept, team_size):\n",
        "        super().__init__(emp_id, emp_name, emp_salary, emp_dept)\n",
        "        self.team_size = team_size\n",
        "\n",
        "    def display_emp_info(self):\n",
        "        \"\"\"Overridden method to include team size.\"\"\"\n",
        "        print(f\"Manager: {self.emp_name} (ID: {self.emp_id}), Department: {self.emp_dept}, Team Size: {self.team_size}\")\n",
        "\n",
        "    def approve_budget(self, amount):\n",
        "        \"\"\"Managers can approve budgets.\"\"\"\n",
        "        print(f\"{self.emp_name} approved a budget of ₹{amount}.\")\n",
        "\n",
        "# 🚀 Example Usage:\n",
        "emp1 = Employees(101, \"Deepak\", 50000, \"Engineering\")\n",
        "emp2 = Employees(102, \"Amit\", 60000, \"Marketing\")\n",
        "mgr1 = Manager(201, \"Rahul\", 80000, \"Finance\", 5)\n",
        "\n",
        "# Find an employee\n",
        "Employees.find_employee_by_id(101)\n",
        "\n",
        "# Apply Raise\n",
        "emp1.give_raise(10)\n",
        "\n",
        "# Manager-Specific Actions\n",
        "mgr1.display_emp_info()\n",
        "mgr1.approve_budget(200000)\n"
      ]
    }
  ]
}