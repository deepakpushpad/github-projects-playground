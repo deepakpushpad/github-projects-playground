{
  "nbformat": 4,
  "nbformat_minor": 0,
  "metadata": {
    "colab": {
      "provenance": [],
      "authorship_tag": "ABX9TyOPsJ1LSuun14WTTeEwNJkS",
      "include_colab_link": true
    },
    "kernelspec": {
      "name": "python3",
      "display_name": "Python 3"
    },
    "language_info": {
      "name": "python"
    }
  },
  "cells": [
    {
      "cell_type": "markdown",
      "metadata": {
        "id": "view-in-github",
        "colab_type": "text"
      },
      "source": [
        "<a href=\"https://colab.research.google.com/github/deepakpushpad/github-projects-playground/blob/Google_Collab/simple_employee_data.ipynb\" target=\"_parent\"><img src=\"https://colab.research.google.com/assets/colab-badge.svg\" alt=\"Open In Colab\"/></a>"
      ]
    },
    {
      "cell_type": "code",
      "source": [
        "class Employees:\n",
        "    All_Employees = []\n",
        "    VALID_DEPARTMENTS = {\"Engineering\", \"Marketing\", \"HR\", \"Finance\", \"Sales\"}\n",
        "\n",
        "    def __init__(self, emp_id, emp_name, emp_salary, emp_dept, years_of_experience=0):\n",
        "        self.emp_id = emp_id\n",
        "        self.emp_name = emp_name\n",
        "        self.__emp_salary = emp_salary\n",
        "        self.emp_dept = emp_dept\n",
        "        self.years_of_experience = years_of_experience\n",
        "        Employees.All_Employees.append(self)\n",
        "\n",
        "    def display_emp_info(self):\n",
        "        print(f\"ID: {self.emp_id}, Name: {self.emp_name}, Dept: {self.emp_dept}, Experience: {self.years_of_experience} years\")\n",
        "\n",
        "    def get_salary(self, role=\"Employee\"):\n",
        "        return f\"{self.emp_name}'s Salary: {self.__emp_salary}\" if role.lower() == \"manager\" else \"Access Denied\"\n",
        "\n",
        "    def set_salary(self, new_salary):\n",
        "        if new_salary > 0:\n",
        "            self.__emp_salary = new_salary\n",
        "            print(\"Salary updated successfully!\")\n",
        "        else:\n",
        "            print(\"Error: Salary must be positive.\")\n",
        "\n",
        "    def change_department(self, new_department):\n",
        "        if new_department in Employees.VALID_DEPARTMENTS:\n",
        "            self.emp_dept = new_department\n",
        "            print(\"Department updated successfully!\")\n",
        "        else:\n",
        "            print(\"Invalid Department.\")\n",
        "\n",
        "    def promote(self, new_designation):\n",
        "        self.designation = new_designation\n",
        "        print(f\"{self.emp_name} promoted to {new_designation}.\")\n",
        "\n",
        "    def set_performance_rating(self, rating):\n",
        "        if 1 <= rating <= 5:\n",
        "            self.performance_rating = rating\n",
        "            print(f\"{self.emp_name} received a rating of {rating}⭐.\")\n",
        "        else:\n",
        "            print(\"Invalid rating!\")\n",
        "\n",
        "    def give_bonus(self):\n",
        "        if hasattr(self, 'performance_rating'):\n",
        "            bonus = self.__emp_salary * (self.performance_rating * 0.02)\n",
        "            print(f\"{self.emp_name} received a bonus of ₹{bonus:.2f}!\")\n",
        "        else:\n",
        "            print(\"No performance rating assigned.\")\n",
        "\n",
        "    def update_experience(self, years):\n",
        "        if years >= 0:\n",
        "            self.years_of_experience = years\n",
        "            print(f\"Updated experience to {years} years.\")\n",
        "        else:\n",
        "            print(\"Error: Experience cannot be negative.\")\n",
        "\n",
        "    @classmethod\n",
        "    def display_all_employees(cls):\n",
        "        print(\"\\nAll Employees:\")\n",
        "        for emp in cls.All_Employees:\n",
        "            print(f\"{emp.emp_id}: {emp.emp_name} ({emp.emp_dept})\")\n",
        "\n",
        "    @classmethod\n",
        "    def find_employee_by_id(cls, emp_id):\n",
        "        for emp in cls.All_Employees:\n",
        "            if emp.emp_id == emp_id:\n",
        "                emp.display_emp_info()\n",
        "                return emp\n",
        "        print(\"Employee not found.\")\n",
        "        return None\n",
        "\n",
        "    @classmethod\n",
        "    def company_statistics(cls):\n",
        "        total_employees = len(cls.All_Employees)\n",
        "        if total_employees == 0:\n",
        "            print(\"No employees in the system.\")\n",
        "            return\n",
        "        total_salary = sum(emp.__emp_salary for emp in cls.All_Employees)\n",
        "        avg_salary = total_salary / total_employees\n",
        "        print(f\"Total Employees: {total_employees}, Average Salary: ₹{avg_salary:.2f}\")\n",
        "\n",
        "\n",
        "# 🚀 Example Usage\n",
        "emp1 = Employees(101, \"Deepak\", 50000, \"Engineering\", 5)\n",
        "emp2 = Employees(102, \"Amit\", 60000, \"Marketing\", 3)\n",
        "emp3 = Employees(103, \"Sara\", 55000, \"Finance\", 4)\n",
        "\n",
        "# Display all employees\n",
        "Employees.display_all_employees()\n",
        "\n",
        "# Find an employee\n",
        "Employees.find_employee_by_id(103)\n",
        "\n",
        "# Give a raise\n",
        "emp1.set_performance_rating(5)\n",
        "emp1.give_bonus()\n",
        "\n",
        "# Update experience\n",
        "emp3.update_experience(6)\n",
        "\n",
        "# Company Statistics\n",
        "Employees.company_statistics()\n"
      ],
      "metadata": {
        "id": "EC-KktZXfGNk",
        "colab": {
          "base_uri": "https://localhost:8080/"
        },
        "outputId": "bc6d5535-4f63-4550-c8aa-689b52dcf3b1"
      },
      "execution_count": 28,
      "outputs": [
        {
          "output_type": "stream",
          "name": "stdout",
          "text": [
            "\n",
            " List of All Employees:\n",
            "101: Deepak (Engineering)\n",
            "102: Amit (Marketing)\n",
            "103: Sara (Finance)\n",
            "\n",
            " Employee Found: Sara\n",
            "Employee ID: 103\n",
            "Employee Name: Sara\n",
            "Department: Finance\n",
            "\n",
            " Employee not found.\n"
          ]
        }
      ]
    },
    {
      "cell_type": "code",
      "source": [],
      "metadata": {
        "id": "eYQjmRqelFKp"
      },
      "execution_count": null,
      "outputs": []
    },
    {
      "cell_type": "code",
      "source": [],
      "metadata": {
        "id": "w0WMy066lFho"
      },
      "execution_count": null,
      "outputs": []
    },
    {
      "cell_type": "code",
      "source": [],
      "metadata": {
        "id": "aUDTwn6nlFtn"
      },
      "execution_count": null,
      "outputs": []
    },
    {
      "cell_type": "code",
      "source": [],
      "metadata": {
        "id": "7P5zCW0OlF7Y"
      },
      "execution_count": null,
      "outputs": []
    },
    {
      "cell_type": "markdown",
      "source": [],
      "metadata": {
        "id": "C791CkbTlGhw"
      }
    },
    {
      "cell_type": "code",
      "source": [],
      "metadata": {
        "id": "I-XYRLzjlG5Y"
      },
      "execution_count": null,
      "outputs": []
    },
    {
      "cell_type": "code",
      "source": [],
      "metadata": {
        "id": "7iRwP3sy0ug7"
      },
      "execution_count": 2,
      "outputs": []
    }
  ]
}